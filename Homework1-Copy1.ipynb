{
 "cells": [
  {
   "cell_type": "code",
   "execution_count": 2,
   "metadata": {
    "collapsed": false
   },
   "outputs": [
    {
     "name": "stdout",
     "output_type": "stream",
     "text": [
      "What's your first name amigo? Eric\n",
      "Hello Eric, nice to meet you\n"
     ]
    }
   ],
   "source": [
    "#Program #1\n",
    "#Create a program that prompts for your name and prints a greeting using your name. \n",
    "\n",
    "#1 Get input\n",
    "#2 Concat into a string\n",
    "#3 Print out the string\n",
    "\n",
    "def Exercise():\n",
    "    \n",
    "     #input\n",
    "     FirstName = input(\"What's your first name amigo? \")\n",
    "\n",
    "     #concatenation done seperately\n",
    "     GreetingString = (\"Hello \" + FirstName + \", nice to meet you\")\n",
    "\n",
    "     #print \n",
    "     print(GreetingString)\n",
    "        \n",
    "Exercise()        \n"
   ]
  },
  {
   "cell_type": "code",
   "execution_count": 7,
   "metadata": {
    "collapsed": false
   },
   "outputs": [
    {
     "name": "stdout",
     "output_type": "stream",
     "text": [
      "What's your input string amigo? Homer\n",
      "Homer has 5 characters.\n"
     ]
    }
   ],
   "source": [
    "#Program #2\n",
    "#Create a program that prompts for an input string and displays output that shows \n",
    "#the input string and the number of characters the string contains.\n",
    "\n",
    "#1 Get input\n",
    "#2 Figure out length, keep the original string, concat into a string\n",
    "#3 Print out the string\n",
    "\n",
    "def Exercise():\n",
    "    \n",
    "     #input\n",
    "     InputString = input(\"What's your input string amigo? \")\n",
    "\n",
    "     #concatenation done seperately\n",
    "     OutputString = (InputString + \" has \" + str(len(InputString)) + \" characters.\")\n",
    "\n",
    "     #print \n",
    "     print(OutputString)\n",
    "        \n",
    "Exercise()      "
   ]
  },
  {
   "cell_type": "code",
   "execution_count": null,
   "metadata": {
    "collapsed": true
   },
   "outputs": [],
   "source": []
  },
  {
   "cell_type": "code",
   "execution_count": 10,
   "metadata": {
    "collapsed": false
   },
   "outputs": [
    {
     "name": "stdout",
     "output_type": "stream",
     "text": [
      "Enter a noun: dog\n",
      "Enter a verb: blue\n",
      "Enter a adjective: walk\n",
      "Enter a adverb: quickly\n",
      "Do you blue your walk dog quickly?  That's hilarious!\n"
     ]
    }
   ],
   "source": [
    "#Program #3\n",
    "#Create a simple mad-lib program that prompts for a noun, a verb, an adverb, \n",
    "#and an adjective and injects those into a story that you create.\n",
    "\n",
    "#1 Get input of noun, verb, adverb, adjective\n",
    "#2 Make a madlib output string\n",
    "#3 Print out the string\n",
    "\n",
    "def Exercise():\n",
    "    \n",
    "     #input Noun\n",
    "     InputNounString = input(\"Enter a noun: \")\n",
    "\n",
    "     #input Verb\n",
    "     InputVerbString = input(\"Enter a verb: \")\n",
    "    \n",
    "     #input Adjective\n",
    "     InputAdjectiveString = input(\"Enter a adjective: \")\n",
    "    \n",
    "     #input Adverb\n",
    "     InputAdverbString = input(\"Enter a adverb: \")\n",
    "    \n",
    "     #Madlib output string\n",
    "     MadlibOutputString = (\"Do you \" +  InputVerbString + \" your \" +  InputAdjectiveString + \" \" + InputNounString + \" \" + InputAdverbString + \"?  That's hilarious!\")\n",
    "\n",
    "     #print \n",
    "     print(MadlibOutputString)\n",
    "        \n",
    "Exercise() "
   ]
  },
  {
   "cell_type": "code",
   "execution_count": 15,
   "metadata": {
    "collapsed": false
   },
   "outputs": [
    {
     "name": "stdout",
     "output_type": "stream",
     "text": [
      "What is the first number?  10\n",
      "What is the second number? 5\n",
      "10 + 5 = 15\n",
      "10 - 10 = 5\n",
      "10 * 10 = 50\n",
      "10 +/ 10 = 2.0\n",
      "\n"
     ]
    }
   ],
   "source": [
    "#Program #4\n",
    "#Write a program that prompts for two numbers. \n",
    "#Print the sum, difference, product, and quotient of those numbers \n",
    "#as shown in the example output:\n",
    "\n",
    "#1 Get input of two numbers in string format \n",
    "#2 Convert input strings to integers\n",
    "#3 Calculate sum, difference, product, quotient \n",
    "#4 Creat output string\n",
    "#4 Print out the string\n",
    "\n",
    "def Exercise():\n",
    "    \n",
    "     #input 1\n",
    "     InputString1 = input(\"What is the first number?  \")\n",
    "\n",
    "     #input 2\n",
    "     InputString2 = input(\"What is the second number? \")\n",
    "    \n",
    "     #Convert to number, keeping original\n",
    "     InputNum1 = int(InputString1)   \n",
    "     InputNum2 = int(InputString2)   \n",
    "        \n",
    "     Sum1 =  InputNum1 + InputNum2\n",
    "     Diff1 = InputNum1 - InputNum2\n",
    "     Prod1 = InputNum1 * InputNum2\n",
    "     Quot1 = InputNum1/InputNum2\n",
    "        \n",
    "     SumString1 = (InputString1 + \" + \" + InputString2 + \" = \" + str(Sum1))   \n",
    "     DiffString1 = (InputString1 + \" - \" + InputString1 + \" = \" + str(Diff1) )\n",
    "     ProdString1 = (InputString1 + \" * \" + InputString1+ \" = \" + str(Prod1)) \n",
    "     QuotString1 = (InputString1 + \" / \" + InputString1 + \" = \" + str(Quot1) )    \n",
    "\n",
    "     #Output string\n",
    "     OutputString = (SumString1 +  \"\\n\" + DiffString1 + \"\\n\" + ProdString1 + \"\\n\"  + QuotString1 + \"\\n\")\n",
    "        \n",
    "     #print \n",
    "     print(OutputString)\n",
    "        \n",
    "Exercise() "
   ]
  },
  {
   "cell_type": "code",
   "execution_count": 20,
   "metadata": {
    "collapsed": false
   },
   "outputs": [
    {
     "name": "stdout",
     "output_type": "stream",
     "text": [
      "What is your current age?  48\n",
      "At what age would you like to retire? 65\n",
      "You  have 17 years until you can retire\n",
      "It's 2017 so you can retire in 2034\n"
     ]
    }
   ],
   "source": [
    "#Program #5\n",
    "#Create a program that determines how many years you have left until retirement \n",
    "#and the year you can retire. It should prompt for your current age \n",
    "#and the age you want to retire and display the output as shown in the example that follows.\n",
    "\n",
    "#1 Get input of current age and retirement age in string format \n",
    "#2 Convert input strings to integers\n",
    "#3 Calculate years to retirment\n",
    "#4 Calculate current year\n",
    "#5 Calculate year you can retire\n",
    "#6 Creat output string\n",
    "#7 Print out the string\n",
    "\n",
    "def Exercise():\n",
    "    \n",
    "     #input 1\n",
    "     InputString1 = input(\"What is your current age?  \")\n",
    "\n",
    "     #input 2\n",
    "     InputString2 = input(\"At what age would you like to retire? \")\n",
    "    \n",
    "     #Convert to number, keeping original\n",
    "     InputNum1 = int(InputString1)   \n",
    "     InputNum2 = int(InputString2)   \n",
    "        \n",
    "     #3 Calculate years to retirment \n",
    "     YearsToRetire = InputNum2 - InputNum1\n",
    "\n",
    "     #4 Calculate current year\n",
    "     import time \n",
    "     year, month, day, hour, minute = time.strftime(\"%Y,%m,%d,%H,%M\").split(',')\n",
    "    \n",
    "     #5 Calculate year you can retire\n",
    "     RetirementYear = int(year) + YearsToRetire   \n",
    "\n",
    "     #Output string\n",
    "     OutputString = (\"You  have \" +  str(YearsToRetire) + \" years until you can retire\\nIt's \" + str(year) + \" so you can retire in \" + str(RetirementYear) )\n",
    "        \n",
    "     #print \n",
    "     print(OutputString)\n",
    "        \n",
    "Exercise() "
   ]
  },
  {
   "cell_type": "code",
   "execution_count": 24,
   "metadata": {
    "collapsed": false,
    "scrolled": false
   },
   "outputs": [
    {
     "name": "stdout",
     "output_type": "stream",
     "text": [
      "What is the length of the room in feet?   20\n",
      "What is the width of the room in feet? 15\n",
      "You entered dimensions of  20 feet by 15 feet\n",
      "The area is\n",
      "300 square feet\n",
      "27.9 square meters\n"
     ]
    }
   ],
   "source": [
    "#Program #6\n",
    "#Create a program that calculates the area of a room. Prompt the user for the length and width of the room in feet. \n",
    "#Then display the area in both square feet and square meters.\n",
    "\n",
    "#1 Get input of length and width in string format \n",
    "#2 Convert input strings to integers\n",
    "#3 Calculate the square feet\n",
    "#4 Calculate the square meters\n",
    "#5 Creat output string\n",
    "#6Print out the string\n",
    "\n",
    "def Exercise():\n",
    "    \n",
    "     const_square_feet_to_meters = 0.093\n",
    "    \n",
    "     #input 1\n",
    "     InputString1 = input(\"What is the length of the room in feet?   \")\n",
    "\n",
    "     #input 2\n",
    "     InputString2 = input(\"What is the width of the room in feet? \")\n",
    "    \n",
    "     #Convert to int, keeping original\n",
    "     Length = int(InputString1)   \n",
    "     Width = int(InputString2)   \n",
    "        \n",
    "     #Calculate the square feet\n",
    "     SquareFeet = Length * Width\n",
    "\n",
    "     #Calculate the square meters\n",
    "     SquareMeters = SquareFeet * const_square_feet_to_meters \n",
    "    \n",
    "     #Output string\n",
    "     OutputString = (\"You entered dimensions of  \" +  str(Length) + \" feet by \" + str(Width) + \" feet\\nThe area is\\n\" + str(SquareFeet) + \" square feet\\n\" + str(SquareMeters) + \" square meters\" )\n",
    "        \n",
    "     #print \n",
    "     print(OutputString)\n",
    "        \n",
    "Exercise() "
   ]
  },
  {
   "cell_type": "code",
   "execution_count": null,
   "metadata": {
    "collapsed": true
   },
   "outputs": [],
   "source": []
  },
  {
   "cell_type": "code",
   "execution_count": 32,
   "metadata": {
    "collapsed": false
   },
   "outputs": [
    {
     "name": "stdout",
     "output_type": "stream",
     "text": [
      "How many people? 8\n",
      "How many pizzas do you have? 2\n",
      "How many slices per pizza? 8\n",
      "Each person gets 2\n",
      "There are 0 slices left\n"
     ]
    }
   ],
   "source": [
    "#Program #7\n",
    "#Write a program to evenly divide pizzas. Prompt for the number of people, the number of pizzas, \n",
    "#and the number of slices per pizza. Ensure that the number of pieces comes out even. \n",
    "#Display the number of pieces of pizza each person should get. \n",
    "#If there are leftovers, show the number of leftover pieces.\n",
    "\n",
    "#1 Get input of pizzas, people, and slices per pizza string format \n",
    "#2 Convert input strings to integers\n",
    "#3 Calculate slices of pizza \n",
    "#4 Calculate the left over slice \n",
    "#5 Creat output string\n",
    "#6 Print out the string\n",
    "\n",
    "def Exercise():\n",
    "    \n",
    "     #input 1\n",
    "     InputString1 = input(\"How many people? \")\n",
    "\n",
    "     #input 2\n",
    "     InputString2 = input(\"How many pizzas do you have? \")\n",
    "\n",
    "     #input 3\n",
    "     InputString3 = input(\"How many slices per pizza? \")\n",
    "\n",
    "     #Convert to int, keeping original\n",
    "     People = int(InputString1)   \n",
    "     Pizzas = int(InputString2)   \n",
    "     SlicePer = int(InputString3)  \n",
    "        \n",
    "     #Calculate slices of pizza \n",
    "     SlicesPerPerson = int((Pizzas * SlicePer) /People)\n",
    "\n",
    "     #Calculate slices of pizza left over\n",
    "     SlicesLeft = int((Pizzas * SlicePer) % People)\n",
    "    \n",
    "     #Output string\n",
    "     OutputString = (\"Each person gets \" +  str(SlicesPerPerson) + \"\\nThere are \" + str(SlicesLeft) + \" slices left\" )\n",
    "        \n",
    "     #print \n",
    "     print(OutputString)\n",
    "        \n",
    "Exercise() "
   ]
  },
  {
   "cell_type": "code",
   "execution_count": 36,
   "metadata": {
    "collapsed": false
   },
   "outputs": [
    {
     "name": "stdout",
     "output_type": "stream",
     "text": [
      "What is the length of the room in feet?   35\n",
      "What is the width of the room in feet? 10\n",
      "You will need to purhcase 1 gallons of paint to cover 350 square feet\n",
      "\n"
     ]
    }
   ],
   "source": [
    "#Program #8\n",
    "#Calculate gallons of paint needed to paint the ceiling of a room. \n",
    "#Prompt for the length and width, and assume one gallon covers 350 square feet. \n",
    "#Display the number of gallons needed to paint the ceiling as a whole number.\n",
    "\n",
    "#1 Get input of current age and retirement age in string format \n",
    "#2 Convert input strings to integers\n",
    "#3 Calculate the square feet\n",
    "#4 Calculate number of gallons\n",
    "#5 Creat output string\n",
    "#6Print out the string\n",
    "\n",
    "def Exercise():\n",
    "    \n",
    "     import math\n",
    "     const_gallon_to_square_feet = 350\n",
    "    \n",
    "     #input 1\n",
    "     InputString1 = input(\"What is the length of the room in feet?   \")\n",
    "\n",
    "     #input 2\n",
    "     InputString2 = input(\"What is the width of the room in feet? \")\n",
    "    \n",
    "     #Convert to int, keeping original\n",
    "     Length = int(InputString1)   \n",
    "     Width = int(InputString2)   \n",
    "        \n",
    "     #Calculate the square feet\n",
    "     SquareFeet = Length * Width\n",
    "\n",
    "     #Calculate the square meters\n",
    "     Gallons = math.ceil(SquareFeet / const_gallon_to_square_feet)\n",
    "      \n",
    "    \n",
    "     #Output string\n",
    "     OutputString = (\"You will need to purhcase \" +  str(Gallons ) + \" gallons of paint to cover \" + str(SquareFeet) + \" square feet\\n\"  )\n",
    "        \n",
    "     #print \n",
    "     print(OutputString)\n",
    "        \n",
    "Exercise() "
   ]
  },
  {
   "cell_type": "code",
   "execution_count": 2,
   "metadata": {
    "collapsed": false,
    "scrolled": true
   },
   "outputs": [
    {
     "name": "stdout",
     "output_type": "stream",
     "text": [
      "Enter the price of item 1: 50\n",
      "Enter the quantity of item 1: 1\n",
      "Enter the price of item 2: 10\n",
      "Enter the quantity of item 2: 1\n",
      "Enter the price of item 3: 2\n",
      "Enter the quantity of item 3: 4\n",
      "Subtotal: 68\n",
      "Tax: 3.74\n",
      "Total: 71.74\n"
     ]
    }
   ],
   "source": [
    "#Program #9\n",
    "\n",
    "#Create a simple self-checkout system. Prompt for the prices and quantities of three items. \n",
    "\n",
    "#Calculate the subtotal of the items. \n",
    "\n",
    "#Then calculate the tax using a tax rate of 5.5%. \n",
    "\n",
    "#Print out the line items with the quantity and total, and then print out the subtotal, tax amount, and total.\n",
    "\n",
    "#1 Get input for three items price and quantity in string format \n",
    "\n",
    "#2 Convert input strings to integers\n",
    "\n",
    "#3 Calculate the subtotal\n",
    "\n",
    "#4 Calculate the tax\n",
    "\n",
    "#5 Calculate the total\n",
    "\n",
    "#6 Creat output string\n",
    "\n",
    "#7 Print out the string\n",
    "\n",
    "def Exercise():\n",
    " const_tax_rate = 0.055\n",
    "\n",
    " #input 1\n",
    " InputPriceString1 = input(\"Enter the price of item 1: \")\n",
    " InputQuantityString1 = input(\"Enter the quantity of item 1: \")\n",
    "\n",
    " #input 2\n",
    " InputPriceString2 = input(\"Enter the price of item 2: \")\n",
    " InputQuantityString2 = input(\"Enter the quantity of item 2: \")\n",
    "\n",
    " #input 3\n",
    " InputPriceString3 = input(\"Enter the price of item 3: \")\n",
    " InputQuantityString3 = input(\"Enter the quantity of item 3: \")\n",
    "\n",
    " #Convert to int, keeping original\n",
    " Price1 = int(InputPriceString1)   \n",
    " Quantity1 = int(InputQuantityString1)   \n",
    " Price2 = int(InputPriceString2)   \n",
    " Quantity2 = int(InputQuantityString2)    \n",
    " Price3 = int(InputPriceString3)   \n",
    " Quantity3 = int(InputQuantityString3)   \n",
    "\n",
    " #Calculate the subtotal\n",
    " Subtotal = (Price1 * Quantity1)  + (Price2 * Quantity2)  + (Price3 * Quantity3)\n",
    "\n",
    " #Calculate the tax\n",
    " Tax = Subtotal * const_tax_rate\n",
    "\n",
    " # Calculate the total\n",
    " Total = Subtotal + Tax\n",
    "\n",
    " #Output string\n",
    " OutputString = (\"Subtotal: \" + str(Subtotal) + \"\\nTax: \" + str(Tax) + \"\\nTotal: \" + str(Total) )\n",
    "\n",
    " #print \n",
    " print(OutputString)\n",
    "\n",
    "Exercise() "
   ]
  },
  {
   "cell_type": "code",
   "execution_count": 13,
   "metadata": {
    "collapsed": false
   },
   "outputs": [
    {
     "name": "stdout",
     "output_type": "stream",
     "text": [
      "Enter the principal: 1500\n",
      "Enter the rate of interest: 4.3\n",
      "Enter the number of years: 4\n",
      "After 4 years at 0.043%, the investment will be worth $1,758.00\n"
     ]
    }
   ],
   "source": [
    "# Program #10\n",
    "#Create a program that computes simple interest. Prompt for the principal amount, \n",
    "#the rate as a percentage, and the time, and display the amount accrued (principal + interest).\n",
    "\n",
    "#The formula for simple interest is A = P(1 + rt), where P is the principal amount, \n",
    "#r is the annual rate of interest, t is the number of years the amount is invested, \n",
    "#and A is the amount at the end of the investment.\n",
    "\n",
    "#1 Get input of rate, principal, and time in string format \n",
    "#2 Convert input strings \n",
    "#3 Calculate the interest \n",
    "#4 Calculate the amount accrued\n",
    "#5 Creat output string\n",
    "#6 Print out the string\n",
    "\n",
    "def Exercise():\n",
    "    \n",
    "     #input 1\n",
    "     InputString1 = input(\"Enter the principal: \")\n",
    "\n",
    "     #input 2\n",
    "     InputString2 = input(\"Enter the rate of interest: \")\n",
    "\n",
    "     #input 3\n",
    "     InputString3 = input(\"Enter the number of years: \")\n",
    "\n",
    "     #Convert to int, keeping original\n",
    "     Principal = int(InputString1)   \n",
    "     Rate = (float(InputString2)/100)   \n",
    "     Years = int(InputString3)  \n",
    "        \n",
    "     #Calculate the interest\n",
    "     Interest = Principal * (1 + (Rate * Years))\n",
    "\n",
    "     #Calculate the amount accrued in money\n",
    "     AmountAccruedMoney =  '${:,.2f}'.format(Interest)       \n",
    "    \n",
    "     #Output string\n",
    "     OutputString = (\"After \" + str(Years) + \" years at \" + str(Rate) +  \"%, the investment will be worth \" +  str(AmountAccruedMoney)  )\n",
    "        \n",
    "     #print \n",
    "     print(OutputString)\n",
    "        \n",
    "Exercise() "
   ]
  }
 ],
 "metadata": {
  "anaconda-cloud": {},
  "kernelspec": {
   "display_name": "Python [conda root]",
   "language": "python",
   "name": "conda-root-py"
  },
  "language_info": {
   "codemirror_mode": {
    "name": "ipython",
    "version": 3
   },
   "file_extension": ".py",
   "mimetype": "text/x-python",
   "name": "python",
   "nbconvert_exporter": "python",
   "pygments_lexer": "ipython3",
   "version": "3.5.2"
  }
 },
 "nbformat": 4,
 "nbformat_minor": 1
}
